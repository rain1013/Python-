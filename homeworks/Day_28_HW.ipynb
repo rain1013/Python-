{
 "cells": [
  {
   "cell_type": "markdown",
   "metadata": {},
   "source": [
    "## 作業:\n",
    "今天學到五種分配，包含，   \n",
    "離散均勻分配( Discrete Uniform Distribution )   \n",
    "伯努利分配( Bernoulli Distribution )   \n",
    "二項分配(Binomial Distribution)  \n",
    "負二項分配(Negative Binomial Distribution)  \n",
    "超幾何分配(Hypergeometric Distribution)   \n",
    "今天我們透過作業中的問題，回想今天的內容吧!  "
   ]
  },
  {
   "cell_type": "markdown",
   "metadata": {},
   "source": [
    "### Q1: 大樂透的頭獎，你必須從49個挑選出 6 個號碼，\n",
    "### 且這六個號碼與頭獎的六個號碼一致，頭獎的機率是屬於哪一種分配?"
   ]
  },
  {
   "cell_type": "code",
   "execution_count": 20,
   "metadata": {},
   "outputs": [
    {
     "ename": "SyntaxError",
     "evalue": "EOL while scanning string literal (<ipython-input-20-25b1fbf68651>, line 3)",
     "output_type": "error",
     "traceback": [
      "\u001b[1;36m  File \u001b[1;32m\"<ipython-input-20-25b1fbf68651>\"\u001b[1;36m, line \u001b[1;32m3\u001b[0m\n\u001b[1;33m    ''''\u001b[0m\n\u001b[1;37m        \n^\u001b[0m\n\u001b[1;31mSyntaxError\u001b[0m\u001b[1;31m:\u001b[0m EOL while scanning string literal\n"
     ]
    }
   ],
   "source": [
    "''''\n",
    "你的答案\n",
    "''''\n",
    "'''\n",
    "負二項分配"
   ]
  },
  {
   "cell_type": "markdown",
   "metadata": {},
   "source": [
    "### Q2: 運用範例的 python 程式碼，計算大樂透的中頭獎機率?"
   ]
  },
  {
   "cell_type": "code",
   "execution_count": 19,
   "metadata": {},
   "outputs": [
    {
     "name": "stdout",
     "output_type": "stream",
     "text": [
      "[4.80352933e-10 1.64620953e-09 4.29843600e-09 9.46999180e-09\n",
      " 1.85454006e-08 3.32915699e-08 5.58822780e-08 8.89168537e-08\n",
      " 1.35433541e-07 1.98918014e-07 2.83307474e-07 3.92990749e-07\n",
      " 5.32804766e-07 7.08027762e-07 9.24369578e-07 1.18795934e-06\n",
      " 1.50533083e-06 1.88340582e-06 2.32947562e-06 2.85118110e-06\n",
      " 3.45649137e-06 4.15368139e-06 4.95130861e-06 5.85818892e-06\n",
      " 6.88337198e-06 8.03611617e-06 9.32586321e-06 1.07622127e-05\n",
      " 1.23548964e-05 1.41137532e-05 1.60487033e-05 1.81697233e-05\n",
      " 2.04868219e-05 2.30100150e-05 2.57493025e-05 2.87146446e-05\n",
      " 3.19159395e-05 3.53630009e-05 3.90655373e-05 4.30331309e-05\n",
      " 4.72752180e-05 5.18010698e-05 5.66197739e-05 6.17402175e-05\n",
      " 6.71710700e-05 7.29207675e-05 7.89974982e-05 8.54091875e-05]\n"
     ]
    }
   ],
   "source": [
    "import matplotlib.pyplot as plt\n",
    "import numpy as np\n",
    "import pandas as pd\n",
    "from scipy import stats\n",
    "import math\n",
    "import statistics\n",
    "# 負二項分配(Negative Binomial Distribution)\n",
    "# 前提：在一系列獨立同分布的伯努利試驗中，X為成功次數到達指定次數（記為 𝑘 ）時，需要試驗的次數的機率分布\n",
    "#p: 成功的機率\n",
    "#k: 累積到 k 次成功後才停整\n",
    "#r: 產生出 樣本點空間\n",
    "\n",
    "# 1.定義負二項分配的基本資訊\n",
    "p = 1/48 #成功的機率\n",
    "k = 6   #指定次數\n",
    "\n",
    "#產生一個同樣間隔的序列\n",
    "r = np.arange(1,49)\n",
    "\n",
    "# 2.計算機率質量函數 (probability mass function)\n",
    "# P(X=x) --> 是機率\n",
    "probs = stats.nbinom.pmf(r,k,p)\n",
    "print(probs)"
   ]
  },
  {
   "cell_type": "markdown",
   "metadata": {},
   "source": [
    "### Q3: 你覺得電腦簽注的中獎機率，和人腦簽注相比，哪一個機率高?"
   ]
  },
  {
   "cell_type": "code",
   "execution_count": null,
   "metadata": {
    "collapsed": true
   },
   "outputs": [],
   "source": [
    "''''\n",
    "你的答案\n",
    "''''\n",
    "##一樣高"
   ]
  }
 ],
 "metadata": {
  "colab": {
   "name": "Day33.YOLO 細節理解 - 網路輸出的後處理_HW.ipynb",
   "provenance": []
  },
  "kernelspec": {
   "display_name": "Python 3",
   "language": "python",
   "name": "python3"
  },
  "language_info": {
   "codemirror_mode": {
    "name": "ipython",
    "version": 3
   },
   "file_extension": ".py",
   "mimetype": "text/x-python",
   "name": "python",
   "nbconvert_exporter": "python",
   "pygments_lexer": "ipython3",
   "version": "3.8.5"
  }
 },
 "nbformat": 4,
 "nbformat_minor": 1
}
