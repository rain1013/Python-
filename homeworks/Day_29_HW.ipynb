{
 "cells": [
  {
   "cell_type": "markdown",
   "metadata": {},
   "source": [
    "## 作業:\n",
    "作業目標，讓大家熟悉連續型分配的語法，\n",
    "以及怎麼透過 python 語法進行常態分配的機率運算。\n"
   ]
  },
  {
   "cell_type": "markdown",
   "metadata": {},
   "source": [
    "### Q1:計算標準常態分配，小於1的機率有多大?\n",
    "![](Q1.png)"
   ]
  },
  {
   "cell_type": "code",
   "execution_count": 55,
   "metadata": {
    "colab": {
     "base_uri": "https://localhost:8080/",
     "height": 34
    },
    "colab_type": "code",
    "executionInfo": {
     "elapsed": 1558,
     "status": "ok",
     "timestamp": 1578021044012,
     "user": {
      "displayName": "Mora chen",
      "photoUrl": "https://lh3.googleusercontent.com/a-/AAuE7mB40f7sDArbZ5_DYq02nNcnLD0Ryaf7AhsASSQeLQ=s64",
      "userId": "03171203089166907199"
     },
     "user_tz": -480
    },
    "id": "yz28_IgkYdBW",
    "outputId": "a12f486c-18b3-4fb5-d06c-f162aebd9444"
   },
   "outputs": [],
   "source": [
    "# library\n",
    "import matplotlib.pyplot as plt\n",
    "import numpy as np\n",
    "import pandas as pd\n",
    "from scipy import stats\n",
    "import math\n",
    "import statistics\n",
    "import seaborn as sns"
   ]
  },
  {
   "cell_type": "code",
   "execution_count": 57,
   "metadata": {},
   "outputs": [
    {
     "name": "stdout",
     "output_type": "stream",
     "text": [
      "356.49956077338345\n"
     ]
    },
    {
     "data": {
      "text/plain": [
       "[<matplotlib.lines.Line2D at 0x226aae30d90>]"
      ]
     },
     "execution_count": 57,
     "metadata": {},
     "output_type": "execute_result"
    },
    {
     "data": {
      "image/png": "[encoded data removed]",
      "text/plain": [
       "<Figure size 432x288 with 1 Axes>"
      ]
     },
     "metadata": {
      "needs_background": "light"
     },
     "output_type": "display_data"
    }
   ],
   "source": [
    "## Q1\n",
    "#  提示: 用 cdf 來算\n",
    "x=np.linspace(-4, 4, 500)\n",
    "mu=0\n",
    "sigma=1\n",
    "cumsum_probs =  stats.norm.cdf(x<1,mu, sigma)\n",
    "print(sum(cumsum_probs))\n",
    "plt.plot(x, y, \"b-\", linewidth=2)"
   ]
  },
  {
   "cell_type": "markdown",
   "metadata": {},
   "source": [
    "### Q2:計算標準常態分配，大於1，小於 -1 的機率有多大?\n",
    "![](Q2.png)\n"
   ]
  },
  {
   "cell_type": "code",
   "execution_count": 39,
   "metadata": {},
   "outputs": [
    {
     "name": "stdout",
     "output_type": "stream",
     "text": [
      "[0.5        0.5        0.5        0.5        0.5        0.5\n",
      " 0.5        0.5        0.5        0.5        0.5        0.5\n",
      " 0.5        0.5        0.5        0.5        0.5        0.5\n",
      " 0.5        0.5        0.5        0.5        0.5        0.5\n",
      " 0.5        0.5        0.5        0.5        0.5        0.5\n",
      " 0.5        0.5        0.5        0.5        0.5        0.5\n",
      " 0.5        0.5        0.5        0.5        0.5        0.5\n",
      " 0.5        0.5        0.5        0.5        0.5        0.5\n",
      " 0.5        0.5        0.5        0.5        0.5        0.5\n",
      " 0.5        0.5        0.5        0.5        0.5        0.5\n",
      " 0.5        0.5        0.5        0.5        0.5        0.5\n",
      " 0.5        0.5        0.5        0.5        0.5        0.5\n",
      " 0.5        0.5        0.5        0.5        0.5        0.5\n",
      " 0.5        0.5        0.5        0.5        0.5        0.5\n",
      " 0.5        0.5        0.5        0.5        0.5        0.5\n",
      " 0.5        0.5        0.5        0.5        0.5        0.5\n",
      " 0.5        0.5        0.5        0.5        0.5        0.5\n",
      " 0.5        0.5        0.5        0.5        0.5        0.5\n",
      " 0.5        0.5        0.5        0.5        0.5        0.5\n",
      " 0.5        0.5        0.5        0.5        0.5        0.5\n",
      " 0.5        0.5        0.5        0.5        0.5        0.5\n",
      " 0.5        0.5        0.5        0.5        0.5        0.5\n",
      " 0.5        0.5        0.5        0.5        0.5        0.5\n",
      " 0.5        0.5        0.5        0.5        0.5        0.5\n",
      " 0.5        0.5        0.5        0.5        0.5        0.5\n",
      " 0.5        0.5        0.5        0.5        0.5        0.5\n",
      " 0.5        0.5        0.5        0.5        0.5        0.5\n",
      " 0.5        0.5        0.5        0.5        0.5        0.5\n",
      " 0.5        0.5        0.5        0.5        0.5        0.5\n",
      " 0.5        0.5        0.5        0.5        0.5        0.5\n",
      " 0.5        0.5        0.5        0.5        0.5        0.5\n",
      " 0.5        0.5        0.5        0.5        0.5        0.5\n",
      " 0.5        0.5        0.5        0.5        0.5        0.5\n",
      " 0.5        0.5        0.5        0.5        0.5        0.5\n",
      " 0.5        0.5        0.5        0.5        0.5        0.5\n",
      " 0.5        0.5        0.5        0.5        0.5        0.5\n",
      " 0.5        0.5        0.5        0.5        0.5        0.5\n",
      " 0.5        0.5        0.5        0.5        0.5        0.5\n",
      " 0.5        0.5        0.5        0.5        0.5        0.5\n",
      " 0.5        0.5        0.5        0.5        0.5        0.5\n",
      " 0.5        0.5        0.5        0.5        0.5        0.5\n",
      " 0.5        0.5        0.5        0.5        0.5        0.5\n",
      " 0.5        0.5        0.5        0.5        0.5        0.5\n",
      " 0.5        0.5        0.5        0.5        0.5        0.5\n",
      " 0.5        0.5        0.5        0.5        0.5        0.5\n",
      " 0.5        0.5        0.5        0.5        0.5        0.5\n",
      " 0.5        0.5        0.5        0.5        0.5        0.5\n",
      " 0.5        0.5        0.5        0.5        0.5        0.5\n",
      " 0.5        0.5        0.5        0.5        0.5        0.5\n",
      " 0.5        0.5        0.5        0.5        0.5        0.5\n",
      " 0.5        0.5        0.5        0.5        0.5        0.5\n",
      " 0.5        0.5        0.5        0.5        0.5        0.5\n",
      " 0.84134475 0.84134475 0.84134475 0.84134475 0.84134475 0.84134475\n",
      " 0.84134475 0.84134475 0.84134475 0.84134475 0.84134475 0.84134475\n",
      " 0.84134475 0.84134475 0.84134475 0.84134475 0.84134475 0.84134475\n",
      " 0.84134475 0.84134475 0.84134475 0.84134475 0.84134475 0.84134475\n",
      " 0.84134475 0.84134475 0.84134475 0.84134475 0.84134475 0.84134475\n",
      " 0.84134475 0.84134475 0.84134475 0.84134475 0.84134475 0.84134475\n",
      " 0.84134475 0.84134475 0.84134475 0.84134475 0.84134475 0.84134475\n",
      " 0.84134475 0.84134475 0.84134475 0.84134475 0.84134475 0.84134475\n",
      " 0.84134475 0.84134475 0.84134475 0.84134475 0.84134475 0.84134475\n",
      " 0.84134475 0.84134475 0.84134475 0.84134475 0.84134475 0.84134475\n",
      " 0.84134475 0.84134475 0.84134475 0.84134475 0.84134475 0.84134475\n",
      " 0.84134475 0.84134475 0.84134475 0.84134475 0.84134475 0.84134475\n",
      " 0.84134475 0.84134475 0.84134475 0.84134475 0.84134475 0.84134475\n",
      " 0.84134475 0.84134475 0.84134475 0.84134475 0.84134475 0.84134475\n",
      " 0.84134475 0.84134475 0.84134475 0.84134475 0.84134475 0.84134475\n",
      " 0.84134475 0.84134475 0.84134475 0.84134475 0.84134475 0.84134475\n",
      " 0.84134475 0.84134475 0.84134475 0.84134475 0.84134475 0.84134475\n",
      " 0.84134475 0.84134475 0.84134475 0.84134475 0.84134475 0.84134475\n",
      " 0.84134475 0.84134475 0.84134475 0.84134475 0.84134475 0.84134475\n",
      " 0.84134475 0.84134475 0.84134475 0.84134475 0.84134475 0.84134475\n",
      " 0.84134475 0.84134475 0.84134475 0.84134475 0.84134475 0.84134475\n",
      " 0.84134475 0.84134475 0.84134475 0.84134475 0.84134475 0.84134475\n",
      " 0.84134475 0.84134475 0.84134475 0.84134475 0.84134475 0.84134475\n",
      " 0.84134475 0.84134475 0.84134475 0.84134475 0.84134475 0.84134475\n",
      " 0.84134475 0.84134475 0.84134475 0.84134475 0.84134475 0.84134475\n",
      " 0.84134475 0.84134475 0.84134475 0.84134475 0.84134475 0.84134475\n",
      " 0.84134475 0.84134475 0.84134475 0.84134475 0.84134475 0.84134475\n",
      " 0.84134475 0.84134475 0.84134475 0.84134475 0.84134475 0.84134475\n",
      " 0.84134475 0.84134475 0.84134475 0.84134475 0.84134475 0.84134475\n",
      " 0.84134475 0.84134475 0.84134475 0.84134475 0.84134475 0.84134475\n",
      " 0.84134475 0.84134475 0.84134475 0.84134475 0.84134475 0.84134475\n",
      " 0.84134475 0.84134475]\n"
     ]
    }
   ],
   "source": [
    "## Q2\n",
    "x=np.linspace(-4, 4, 500)\n",
    "mu=0\n",
    "sigma=1\n",
    "cumsum_probs =  stats.norm.cdf(x>1,mu, sigma)\n",
    "print(cumsum_probs)"
   ]
  },
  {
   "cell_type": "markdown",
   "metadata": {},
   "source": [
    "### Q3:X~N(2,4),x 服從常態分配，平均數為2,變異數為 4，計算 X小於 6 的機率有多大?"
   ]
  },
  {
   "cell_type": "code",
   "execution_count": 61,
   "metadata": {},
   "outputs": [
    {
     "name": "stdout",
     "output_type": "stream",
     "text": [
      "0.15865525393145707\n"
     ]
    }
   ],
   "source": [
    "## Q3\n",
    "#  提示: 和 Q1,Q2 不同，要先標準化。\n",
    "'''\n",
    "你的程式碼\n",
    "'''\n",
    "X=6\n",
    "u=2\n",
    "var=4\n",
    "z = (X-u)/(var**1/2)\n",
    "\n",
    "x=np.linspace(-4, 4, 500)\n",
    "sigma=1\n",
    "cumsum_probs =  stats.norm.cdf(x<6,2, sigma)\n",
    "print(cumsum_probs[2])"
   ]
  },
  {
   "cell_type": "code",
   "execution_count": null,
   "metadata": {},
   "outputs": [],
   "source": []
  }
 ],
 "metadata": {
  "colab": {
   "name": "Day33.YOLO 細節理解 - 網路輸出的後處理_HW.ipynb",
   "provenance": []
  },
  "kernelspec": {
   "display_name": "Python 3",
   "language": "python",
   "name": "python3"
  },
  "language_info": {
   "codemirror_mode": {
    "name": "ipython",
    "version": 3
   },
   "file_extension": ".py",
   "mimetype": "text/x-python",
   "name": "python",
   "nbconvert_exporter": "python",
   "pygments_lexer": "ipython3",
   "version": "3.8.5"
  }
 },
 "nbformat": 4,
 "nbformat_minor": 1
}
