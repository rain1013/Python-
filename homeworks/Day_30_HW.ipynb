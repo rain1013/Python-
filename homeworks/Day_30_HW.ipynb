{
 "cells": [
  {
   "cell_type": "markdown",
   "metadata": {},
   "source": [
    "## 作業:\n",
    "\n",
    "電影院裡通常都是成對情侶一起去看，假設電影院中有100 個人裡面，有 90 名男性和 10 名女性。在這 10 名女性裡，有一半的人有長髮（5 人），另一半有短髮（5人）；在 90 名男性當中，81 個人有短髮，9個人有長髮。\n",
    "\n",
    "![](Q1.png)"
   ]
  },
  {
   "cell_type": "markdown",
   "metadata": {},
   "source": [
    "### Q1: 所以根據這個情況條件下，你會預測照片中的長髮是男性或女性(直覺回答)?"
   ]
  },
  {
   "cell_type": "code",
   "execution_count": 10,
   "metadata": {},
   "outputs": [
    {
     "data": {
      "text/plain": [
       "'\\n你的答案\\n'"
      ]
     },
     "execution_count": 10,
     "metadata": {},
     "output_type": "execute_result"
    }
   ],
   "source": [
    "'''\n",
    "你的答案\n",
    "'''\n",
    "直覺認為長髮是女性。"
   ]
  },
  {
   "cell_type": "markdown",
   "metadata": {},
   "source": [
    "### Q2:以上圖資料，計算當你看到長髮時，是女生的機率?"
   ]
  },
  {
   "cell_type": "code",
   "execution_count": 1,
   "metadata": {},
   "outputs": [
    {
     "name": "stdout",
     "output_type": "stream",
     "text": [
      "P(A|B) = 35.71\n"
     ]
    }
   ],
   "source": [
    "'''\n",
    "這邊透過範例的程式碼進行撰寫\n",
    "'''\n",
    "def bayes_theorem(p_a, p_b_given_a, p_b_given_not_a):\n",
    "\t# calculate P(not A)\n",
    "\tnot_a = 1 - p_a\n",
    "\t# calculate P(B)\n",
    "\tp_b = p_b_given_a * p_a + p_b_given_not_a * not_a\n",
    "\t# calculate P(A|B)\n",
    "\tp_a_given_b = (p_b_given_a * p_a) / p_b\n",
    "\treturn p_a_given_b\n",
    " \n",
    "# P(A): P(女生)\n",
    "# P(not A): P(男生)\n",
    "p_a = 0.1\n",
    "# P(B|A): P(長髮|女生)\n",
    "p_b_given_a = 0.5\n",
    "# P(B|not A): P(長髮|男生)\n",
    "p_b_given_not_a = 0.1\n",
    "# calculate P(A|B): P(女生|長髮)\n",
    "result = bayes_theorem(p_a, p_b_given_a, p_b_given_not_a)\n",
    "# summarize\n",
    "# P(女生|長髮)\n",
    "print('P(A|B) = {0}'.format(round(result * 100,2)))"
   ]
  },
  {
   "cell_type": "markdown",
   "metadata": {},
   "source": [
    "### Q3:你的決策因為男生女生比例不同(先驗分配不同)，和投影片的結果相比，決策有沒有改變?"
   ]
  },
  {
   "cell_type": "code",
   "execution_count": 2,
   "metadata": {},
   "outputs": [
    {
     "ename": "NameError",
     "evalue": "name '有' is not defined",
     "output_type": "error",
     "traceback": [
      "\u001b[1;31m---------------------------------------------------------------------------\u001b[0m",
      "\u001b[1;31mNameError\u001b[0m                                 Traceback (most recent call last)",
      "\u001b[1;32m<ipython-input-2-6ee8166c1a77>\u001b[0m in \u001b[0;36m<module>\u001b[1;34m\u001b[0m\n\u001b[0;32m      2\u001b[0m \u001b[0m你的答案\u001b[0m\u001b[1;33m\u001b[0m\u001b[1;33m\u001b[0m\u001b[0m\n\u001b[0;32m      3\u001b[0m '''\n\u001b[1;32m----> 4\u001b[1;33m \u001b[0m有\u001b[0m\u001b[1;33m\u001b[0m\u001b[1;33m\u001b[0m\u001b[0m\n\u001b[0m",
      "\u001b[1;31mNameError\u001b[0m: name '有' is not defined"
     ]
    }
   ],
   "source": [
    "'''\n",
    "你的答案\n",
    "'''\n",
    "有"
   ]
  },
  {
   "cell_type": "code",
   "execution_count": null,
   "metadata": {},
   "outputs": [],
   "source": []
  }
 ],
 "metadata": {
  "colab": {
   "name": "Day33.YOLO 細節理解 - 網路輸出的後處理_HW.ipynb",
   "provenance": []
  },
  "kernelspec": {
   "display_name": "Python 3",
   "language": "python",
   "name": "python3"
  },
  "language_info": {
   "codemirror_mode": {
    "name": "ipython",
    "version": 3
   },
   "file_extension": ".py",
   "mimetype": "text/x-python",
   "name": "python",
   "nbconvert_exporter": "python",
   "pygments_lexer": "ipython3",
   "version": "3.8.5"
  }
 },
 "nbformat": 4,
 "nbformat_minor": 1
}
